{
 "cells": [
  {
   "cell_type": "code",
   "execution_count": 11,
   "id": "a16aca00-3ba8-4b7e-9220-59bf05e00391",
   "metadata": {},
   "outputs": [],
   "source": [
    "import pandas as pd\n",
    "import requests\n",
    "from bs4 import BeautifulSoup\n",
    "import re\n",
    "from collections import Counter"
   ]
  },
  {
   "cell_type": "markdown",
   "id": "166224a0-60ec-4cc0-a191-61839aefaa45",
   "metadata": {},
   "source": [
    "### Formatting DF"
   ]
  },
  {
   "cell_type": "code",
   "execution_count": 2,
   "id": "6856f37d-dc95-4f0a-ab3d-9cd274f18b23",
   "metadata": {},
   "outputs": [],
   "source": [
    "data = pd.read_csv(\"data.csv\", sep = \";\", index_col = \"Unnamed: 0\")\n",
    "data = data[[\"song\", \"composer\"]]\n",
    "composer = [c for c in list(data[\"composer\"])]\n",
    "unique_composers = set([c for c in list(data[\"composer\"]) if \"-\" not in c])\n",
    "song = list(data[\"song\"])"
   ]
  },
  {
   "cell_type": "code",
   "execution_count": 3,
   "id": "4819a964-2234-4273-80fe-43cd56d91902",
   "metadata": {},
   "outputs": [],
   "source": [
    "landingpage = requests.get(\"https://www.jazzdisco.org/\").text\n",
    "landingpage = BeautifulSoup(landingpage, \"html.parser\")"
   ]
  },
  {
   "cell_type": "code",
   "execution_count": 4,
   "id": "1e5332b9-3d83-467b-86dd-9adeba65b914",
   "metadata": {},
   "outputs": [],
   "source": [
    "# Getting URLs to composers' catalogs\n",
    "catalogs = []\n",
    "composers_in_db = []\n",
    "url_dict = {}\n",
    "\n",
    "for c in composer:\n",
    "    coriginal = c\n",
    "    c = c.split(\" \")\n",
    "    c.reverse()\n",
    "    c = \" \".join(c)\n",
    "    if c in landingpage.text:\n",
    "        c = f\"https://www.jazzdisco.org/{c.replace(\" \", \"-\").lower()}/catalog/\"\n",
    "        catalogs.append(c)\n",
    "        composers_in_db.append(c)\n",
    "        url_dict[coriginal] = c\n",
    "\n",
    "# Formatting songs to match jazzdisco format\n",
    "song_formatted = []\n",
    "for s in song:\n",
    "    if s.endswith(\", The\"):\n",
    "        s =  \"The \" + s[:-5]\n",
    "    song_formatted.append(s)\n",
    "\n",
    "# Adding the urls to the DF\n",
    "col3 = []\n",
    "for c in composer:\n",
    "    if c in url_dict.keys():\n",
    "        col3.append(url_dict[c])\n",
    "    else:\n",
    "        col3.append(None)\n",
    "\n",
    "data[\"song_original\"] = data[\"song\"]\n",
    "data[\"song\"] = song_formatted\n",
    "data = data.set_index(data[\"song\"])\n",
    "data[\"catalogue_url\"] = col3"
   ]
  },
  {
   "cell_type": "code",
   "execution_count": 5,
   "id": "4e3e8150-0f37-4a34-b2e5-038303bcea99",
   "metadata": {},
   "outputs": [],
   "source": [
    "data = data.dropna(axis = 0, how = \"any\")\n",
    "data = data.sort_values(by = [\"composer\"], axis = 0)"
   ]
  },
  {
   "cell_type": "markdown",
   "id": "a27fe3fd-7a67-4bc5-be5f-396335edcb70",
   "metadata": {},
   "source": [
    "### Scraping Data"
   ]
  },
  {
   "cell_type": "code",
   "execution_count": 6,
   "id": "cc210cab-2e33-4459-abac-bc60f1d92365",
   "metadata": {},
   "outputs": [],
   "source": [
    "# Scraping each composer's catalogue.\n",
    "comp_url = {}\n",
    "for composer, url in zip(data[\"composer\"], data[\"catalogue_url\"]):\n",
    "    if composer not in comp_url.keys():\n",
    "        comp_url[composer] = requests.get(url).text\n",
    "        comp_url[composer] = BeautifulSoup(comp_url[composer], \"html.parser\")"
   ]
  },
  {
   "cell_type": "code",
   "execution_count": 7,
   "id": "6feb675b-51dc-4447-b0ca-8503edcca467",
   "metadata": {},
   "outputs": [],
   "source": [
    "# Defining scraping function.\n",
    "def extractloc(song, composer):\n",
    "    \n",
    "    for t in comp_url[composer].find_all(\"table\"):\n",
    "        if song in t.text:\n",
    "            date = t.find_previous(\"p\", class_=\"date\")\n",
    "            locdate = date.text.strip() if date else None\n",
    "            \n",
    "            releasecode = t.find_previous(\"i\")\n",
    "            label = releasecode.text.strip() if releasecode else None\n",
    "            \n",
    "            return (locdate, label)\n",
    "\n",
    "    return (None, None)"
   ]
  },
  {
   "cell_type": "code",
   "execution_count": 8,
   "id": "5cb75167-fec7-459d-9385-481645a3920b",
   "metadata": {},
   "outputs": [],
   "source": [
    "# Applying scraping function.\n",
    "locs = {}\n",
    "labels = {}\n",
    "for song, composer in zip(data[\"song\"], data[\"composer\"]):\n",
    "    locs[song] = extractloc(song, composer)[0]\n",
    "    labels[song] = extractloc(song, composer)[1]"
   ]
  },
  {
   "cell_type": "markdown",
   "id": "28c24bb0-64b8-4c1a-9118-779ef9f47e44",
   "metadata": {},
   "source": [
    "### Cleaning"
   ]
  },
  {
   "cell_type": "code",
   "execution_count": 29,
   "id": "639cd9f8-2945-4201-9a31-01f55268bb4e",
   "metadata": {},
   "outputs": [],
   "source": [
    "locations = [\"CA\", \"IL\", \"NY\", \"NYC\", \"NJ\", \"LA\"]\n",
    "#locations = [\"Los Angeles\", \"Chicago\", \"NYC\", \"Englewood Cliffs\", \"Hackensack\", \"Greenwich Village\", \"New Orleans\"]\n",
    "record_labels = [\"Atlantic\", \"Bethlehem\", \"Blue Note\", \"Candid\", \"Contemporary\", \"CTI\", \"Debut\", \"Dial\", \"ECM\", \"ESP\", \n",
    "                 \"Fantasy\", \"Impulse!\", \"Landmark\", \"Mercury\", \"Pablo\", \"Pacific\", \"Prestige\", \"Riverside\", \"Savoy\",\n",
    "                 \"Verve\", \"Capitol\", \"Columbia\", \"Warner Bros\"]\n",
    "\n",
    "song_loc = {}\n",
    "song_lab = {}\n",
    "\n",
    "for s, l in locs.items():\n",
    "    if l is not None:\n",
    "        for town in locations:\n",
    "            if town in l:\n",
    "                song_loc[s] = town\n",
    "                break \n",
    "        else:\n",
    "            song_loc[s] = None\n",
    "    else:\n",
    "        song_loc[s] = None\n",
    "            \n",
    "for s, l in labels.items():\n",
    "    if l is not None:\n",
    "        for rl in record_labels:\n",
    "            if rl in l:\n",
    "                song_lab[s] = rl\n",
    "                break\n",
    "            else:\n",
    "                song_lab[s] = None\n",
    "    else:\n",
    "        song_lab[s] = None"
   ]
  },
  {
   "cell_type": "code",
   "execution_count": 30,
   "id": "f188ea85-4117-41fd-8c95-1e18a1d088eb",
   "metadata": {},
   "outputs": [],
   "source": [
    "locdf = data[[\"song_original\", \"composer\"]].copy()\n",
    "locdf[\"location\"] = None\n",
    "\n",
    "for s, l in song_loc.items():\n",
    "    if s in locdf.index:\n",
    "        locdf.loc[s, \"location\"] = l\n",
    "\n",
    "locdf = locdf.dropna(axis=0, how=\"any\")\n",
    "\n",
    "locdf.to_csv(\"locations.csv\")\n",
    "\n",
    "\n",
    "labdf = data[[\"song_original\", \"composer\"]].copy()\n",
    "labdf[\"label\"] = None\n",
    "\n",
    "for s, l in song_lab.items():\n",
    "    if s in labdf.index:\n",
    "        labdf.loc[s, \"label\"] = l\n",
    "\n",
    "labdf = labdf.dropna(axis=0, how=\"any\")\n",
    "\n",
    "#labdf.to_csv(\"labels.csv\")"
   ]
  },
  {
   "cell_type": "code",
   "execution_count": 31,
   "id": "855d8aba-f59b-418f-8173-82d4b4678af6",
   "metadata": {},
   "outputs": [
    {
     "data": {
      "text/plain": [
       "Counter({'NY': 180, 'NJ': 103, 'CA': 37, 'IL': 4})"
      ]
     },
     "execution_count": 31,
     "metadata": {},
     "output_type": "execute_result"
    }
   ],
   "source": [
    "Counter(list(locdf[\"location\"]))"
   ]
  },
  {
   "cell_type": "code",
   "execution_count": null,
   "id": "bd703bd3-3563-4ca4-b64d-b62f93801576",
   "metadata": {},
   "outputs": [],
   "source": []
  }
 ],
 "metadata": {
  "kernelspec": {
   "display_name": "Python 3 (ipykernel)",
   "language": "python",
   "name": "python3"
  },
  "language_info": {
   "codemirror_mode": {
    "name": "ipython",
    "version": 3
   },
   "file_extension": ".py",
   "mimetype": "text/x-python",
   "name": "python",
   "nbconvert_exporter": "python",
   "pygments_lexer": "ipython3",
   "version": "3.12.9"
  }
 },
 "nbformat": 4,
 "nbformat_minor": 5
}
