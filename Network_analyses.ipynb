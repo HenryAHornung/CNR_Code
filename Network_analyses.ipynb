{
 "cells": [
  {
   "cell_type": "code",
   "execution_count": 1,
   "id": "cfd894d7-6cf3-4d89-830d-eb104511b541",
   "metadata": {},
   "outputs": [],
   "source": [
    "#!pip install amrlib\n",
    "import os\n",
    "import pandas as pd\n",
    "import ast\n",
    "import amrlib"
   ]
  },
  {
   "cell_type": "markdown",
   "id": "0cf06e25-e547-494c-97a0-af17eb7548cf",
   "metadata": {},
   "source": [
    "### Read Data"
   ]
  },
  {
   "cell_type": "code",
   "execution_count": 2,
   "id": "c293739b-feec-4bc5-a5b7-0f05aadd2713",
   "metadata": {},
   "outputs": [],
   "source": [
    "data = pd.read_csv(\"data.csv\", sep=\";\")"
   ]
  },
  {
   "cell_type": "code",
   "execution_count": 3,
   "id": "7b79c5a7-5a7c-44fa-b11c-0fda1ede499e",
   "metadata": {},
   "outputs": [],
   "source": [
    "def safe_eval(val):\n",
    "    try:\n",
    "        return ast.literal_eval(val)\n",
    "    except (ValueError, SyntaxError):\n",
    "        return val  # or return None, or np.nan if you prefer\n",
    "\n",
    "songs = data[\"normalized chords\"].apply(safe_eval)\n",
    "parsed_songs = data[\"normalized and parsed chords\"].apply(safe_eval)"
   ]
  },
  {
   "cell_type": "markdown",
   "id": "64bb4f10-bfdc-4f4c-95e0-aec3827be9f5",
   "metadata": {},
   "source": [
    "## Weights"
   ]
  },
  {
   "cell_type": "markdown",
   "id": "8c740811-b350-4e10-b204-70f50a34a965",
   "metadata": {},
   "source": [
    "### Assemble and count bigrams"
   ]
  },
  {
   "cell_type": "code",
   "execution_count": 4,
   "id": "630f7834-9aa4-44ab-ac12-caed41996f5d",
   "metadata": {},
   "outputs": [],
   "source": [
    "def makebigrams(song):\n",
    "    bigrams = []\n",
    "    for i, chord in enumerate(song):\n",
    "        if i == 0:\n",
    "            bigrams.append((\"Start\", chord))\n",
    "            bigrams.append((chord, song[i + 1]))\n",
    "        elif i != 0 and i != (len(song) - 1):\n",
    "            bigrams.append((chord, song[i + 1]))\n",
    "        else:\n",
    "            bigrams.append((chord, \"End\"))\n",
    "    \n",
    "    return bigrams"
   ]
  },
  {
   "cell_type": "code",
   "execution_count": 5,
   "id": "e7d9e6fa-fc71-4f17-bb53-fa878dad8fcc",
   "metadata": {},
   "outputs": [],
   "source": [
    "bgcorpus = [makebigrams(song) for song in songs]"
   ]
  },
  {
   "cell_type": "code",
   "execution_count": 6,
   "id": "4a98aca9-a818-40eb-b44e-6ea9f75ce58f",
   "metadata": {},
   "outputs": [],
   "source": [
    "def countbg(song):\n",
    "    bgcounts = {}\n",
    "    for change in song:\n",
    "        if change not in bgcounts.keys():\n",
    "            bgcounts[change] = 1\n",
    "        else:\n",
    "            bgcounts[change] += 1\n",
    "    \n",
    "    return bgcounts"
   ]
  },
  {
   "cell_type": "code",
   "execution_count": 7,
   "id": "2ba185da-47bf-4c1a-8b88-6fd2f3ddb8d0",
   "metadata": {},
   "outputs": [],
   "source": [
    "bgcounts = [countbg(song) for song in bgcorpus]"
   ]
  },
  {
   "cell_type": "markdown",
   "id": "058e6591-17e1-4191-9c28-e0df90e882e7",
   "metadata": {},
   "source": [
    "### Nodes"
   ]
  },
  {
   "cell_type": "code",
   "execution_count": 12,
   "id": "0a75a225-95b3-4d10-a944-d579cd1a7b2e",
   "metadata": {},
   "outputs": [],
   "source": [
    "n = 0\n",
    "for i, song in enumerate(songs):\n",
    "    allnodes = list(set(song)) + [\"Start\", \"End\"]\n",
    "\n",
    "    nodes = pd.DataFrame()\n",
    "    nodes[\"id\"] = allnodes\n",
    "\n",
    "    nodes.to_csv(f\"node_tables/{n-1}_{data[\"song\"][i]}_nodes.csv\", index = False)\n",
    "    n += 1"
   ]
  },
  {
   "cell_type": "markdown",
   "id": "74eceb74-f557-42e8-9e83-a0fbf33ae720",
   "metadata": {},
   "source": [
    "### Edges"
   ]
  },
  {
   "cell_type": "code",
   "execution_count": 11,
   "id": "b2733df9-692e-490f-af2f-4c502eeb90d2",
   "metadata": {},
   "outputs": [],
   "source": [
    "n = 0\n",
    "\n",
    "for i, song_bg in enumerate(bgcounts):\n",
    "    source = []\n",
    "    target = []\n",
    "    weight = []\n",
    "    for change, w in song_bg.items():\n",
    "        source.append(change[0])\n",
    "        target.append(change[1])\n",
    "        weight.append(w/sum(bgcounts[0].values()))\n",
    "\n",
    "        edges = pd.DataFrame()\n",
    "        edges[\"Source\"] = source\n",
    "        edges[\"Weight\"] = weight\n",
    "        edges[\"Target\"] = target\n",
    "\n",
    "    n += 1\n",
    "    edges.to_csv(f\"penman_tables/{n-1}_{data[\"song\"][i]}.csv\", index = False)"
   ]
  },
  {
   "cell_type": "markdown",
   "id": "f41bcd3f-3ce1-42c3-8348-91764ff4e435",
   "metadata": {},
   "source": [
    "## Intervals"
   ]
  },
  {
   "cell_type": "code",
   "execution_count": 10,
   "id": "58ef81f3-ede1-474e-8a21-5782fde5a4b4",
   "metadata": {},
   "outputs": [],
   "source": [
    "# Extracting roots.\n",
    "chord_roots = []\n",
    "\n",
    "for song in parsed_songs:\n",
    "    roots = []\n",
    "    for chord in song:\n",
    "        try:\n",
    "            roots.append(chord[\"Root\"])\n",
    "        except:\n",
    "            roots.append(\"ERROR\")\n",
    "    chord_roots.append(roots)"
   ]
  },
  {
   "cell_type": "code",
   "execution_count": 11,
   "id": "5773187d-8229-457a-a91b-0030ede2a41a",
   "metadata": {},
   "outputs": [],
   "source": [
    "# Replacing root with distance from key.\n",
    "minor_map = {\"A\": 0, \"A#\": 1, \"Bb\": 1, \"B\": 2, \"C\": 3, \"C#\": 4, \"Db\": 4, \"D\": 5, \"D#\": 6, \"Eb\": 6,\n",
    "                 \"E\": 7, \"F\": 8, \"F#\": 9, \"Gb\": 9, \"G\": 10, \"G#\": 11, \"Ab\": 11}\n",
    "major_map = {\"C\": 0, \"C#\": 1, \"Db\": 1, \"D\": 2, \"D#\": 3, \"Eb\": 3, \"E\": 4, \"F\": 5, \"F#\": 6, \"Gb\": 6,\n",
    "                 \"G\": 7, \"G#\": 8, \"Ab\": 8, \"A\": 9, \"A#\": 10, \"Bb\": 10, \"B\": 11}\n",
    "\n",
    "song_intervals = []\n",
    "\n",
    "for i, song in enumerate(chord_roots):\n",
    "    if \"-\" in data[\"key\"][i]:\n",
    "        intervals = [minor_map.get(root) for root in song]\n",
    "        song_intervals.append(intervals)\n",
    "    else:\n",
    "        intervals = [major_map.get(root) for root in song]\n",
    "        song_intervals.append(intervals)"
   ]
  },
  {
   "cell_type": "code",
   "execution_count": 12,
   "id": "df7b6a9a-4e09-4c92-9ca0-c9c6398460ea",
   "metadata": {},
   "outputs": [],
   "source": [
    "# Make interval bigrams\n",
    "bgintervals = [makebigrams(intervals) for intervals in song_intervals]"
   ]
  },
  {
   "cell_type": "code",
   "execution_count": 164,
   "id": "d6d14b01-7600-4932-b6c2-1b3d340de9f3",
   "metadata": {},
   "outputs": [],
   "source": [
    "# Calculating interval changes between chords\n",
    "interval_changes = []\n",
    "for index, song in enumerate(bgintervals):\n",
    "    intervals = []\n",
    "    for interval in song:\n",
    "        try:\n",
    "            if interval[0] == \"Start\":\n",
    "                i = interval[1]\n",
    "            elif interval[1] == \"End\":\n",
    "                i = interval[0]\n",
    "            else:\n",
    "                i = interval[1] - interval[0]\n",
    "            intervals.append(i)\n",
    "        except:\n",
    "            intervals = \"ERROR\"\n",
    "    interval_changes.append(intervals)"
   ]
  },
  {
   "cell_type": "code",
   "execution_count": 165,
   "id": "93992c0e-8cc6-483f-a002-94d2e4b5536a",
   "metadata": {},
   "outputs": [],
   "source": [
    "# Formatting the chord extensions\n",
    "extensions = []\n",
    "for song in parsed_songs:\n",
    "    deparsed_song = []\n",
    "    if \"ERROR\" not in song:\n",
    "        for chord in song:\n",
    "            if \"Root\" in chord.keys():\n",
    "                chord.pop(\"Root\")\n",
    "            joined_chord = \"\".join(chord.values())\n",
    "            if joined_chord != \"\":\n",
    "                deparsed_song.append(f\"({joined_chord})\")\n",
    "            else:\n",
    "                deparsed_song.append(\"\")\n",
    "        deparsed_song.append(\"\")\n",
    "    else:\n",
    "        deparsed_song = \"ERROR\"\n",
    "    extensions.append(deparsed_song)"
   ]
  },
  {
   "cell_type": "code",
   "execution_count": 166,
   "id": "ca1b0f90-0415-4345-9a97-81ced11c02e1",
   "metadata": {},
   "outputs": [],
   "source": [
    "# Adding the extensions to the intervals\n",
    "complete_intervals = []\n",
    "for i1, song in enumerate(interval_changes):\n",
    "    interval_and_extension = []\n",
    "    for i2, interval in enumerate(song):\n",
    "        interval_and_extension.append(str(interval) + extensions[i1][i2])\n",
    "    complete_intervals.append(interval_and_extension)"
   ]
  },
  {
   "cell_type": "code",
   "execution_count": 167,
   "id": "c7a0ef35-a0aa-4b6e-95ab-e34cfd37a4b6",
   "metadata": {},
   "outputs": [],
   "source": [
    "interval_d = []\n",
    "for i1, song in enumerate(bgcorpus):\n",
    "    bgdict = {}\n",
    "    n = 0\n",
    "    for i2, bg in enumerate(song):\n",
    "        try:\n",
    "            bgdict[bg] = complete_intervals[i1][i2]\n",
    "        except:\n",
    "            n += 1\n",
    "            bgdict[f\"ERROR_{n}\"] = \"ERROR\"\n",
    "    interval_d.append(bgdict)"
   ]
  },
  {
   "cell_type": "code",
   "execution_count": 168,
   "id": "ea2273d7-0524-414a-95e9-5b96e06d988e",
   "metadata": {},
   "outputs": [],
   "source": [
    "n = 0\n",
    "\n",
    "for index, song in enumerate(interval_d):\n",
    "    source = []\n",
    "    target = []\n",
    "    weight = []\n",
    "    interval = []\n",
    "    for bg, i in song.items():\n",
    "        try:\n",
    "            source.append(bg[0])\n",
    "            target.append(bg[1])\n",
    "            weight.append(w/sum(bgcounts[0].values()))\n",
    "            interval.append(i)\n",
    "        except:\n",
    "            source.append(\"ERROR\")\n",
    "            target.append(\"ERROR\")\n",
    "            weight.append(\"ERROR\")\n",
    "            interval.append(\"ERROR\")\n",
    "        edges = pd.DataFrame()\n",
    "        edges[\"Source\"] = source\n",
    "        edges[\"Weight\"] = weight\n",
    "        edges[\"Target\"] = target\n",
    "        edges[\"Interval\"] = interval\n",
    "\n",
    "    n += 1\n",
    "    edges.to_csv(f\"penman_tables2/{n}_{data[\"song\"][index]}_penman.csv\", index = False)"
   ]
  },
  {
   "cell_type": "code",
   "execution_count": 172,
   "id": "57786407-c1bf-4771-9ea4-2b1074f3362a",
   "metadata": {},
   "outputs": [],
   "source": [
    "transitions = [(songs[0][i], songs[0][i+1]) for i in range(len(songs[0])-1)]"
   ]
  },
  {
   "cell_type": "code",
   "execution_count": 173,
   "id": "0e805fcf-1f8d-4bcd-a730-802c99427aed",
   "metadata": {},
   "outputs": [
    {
     "data": {
      "text/plain": [
       "[('D9', 'F-6'),\n",
       " ('F-6', 'D9'),\n",
       " ('D9', 'F-6'),\n",
       " ('F-6', 'C'),\n",
       " ('C', 'C7'),\n",
       " ('C7', 'B7'),\n",
       " ('B7', 'Bb7'),\n",
       " ('Bb7', 'A7'),\n",
       " ('A7', 'D9'),\n",
       " ('D9', 'G7'),\n",
       " ('G7', 'Ab7'),\n",
       " ('Ab7', 'G7'),\n",
       " ('G7', 'D9'),\n",
       " ('D9', 'F-6'),\n",
       " ('F-6', 'D9'),\n",
       " ('D9', 'F-6'),\n",
       " ('F-6', 'C'),\n",
       " ('C', 'C7'),\n",
       " ('C7', 'B7'),\n",
       " ('B7', 'Bb7'),\n",
       " ('Bb7', 'A7'),\n",
       " ('A7', 'D9'),\n",
       " ('D9', 'G7'),\n",
       " ('G7', 'C6'),\n",
       " ('C6', 'C7'),\n",
       " ('C7', 'C7'),\n",
       " ('C7', 'F6'),\n",
       " ('F6', 'F6'),\n",
       " ('F6', 'D7'),\n",
       " ('D7', 'D7'),\n",
       " ('D7', 'G7'),\n",
       " ('G7', 'G7'),\n",
       " ('G7', 'D9'),\n",
       " ('D9', 'F-6'),\n",
       " ('F-6', 'D9'),\n",
       " ('D9', 'F-6'),\n",
       " ('F-6', 'C'),\n",
       " ('C', 'C7'),\n",
       " ('C7', 'B7'),\n",
       " ('B7', 'Bb7'),\n",
       " ('Bb7', 'A7'),\n",
       " ('A7', 'D9'),\n",
       " ('D9', 'G7'),\n",
       " ('G7', 'C6')]"
      ]
     },
     "execution_count": 173,
     "metadata": {},
     "output_type": "execute_result"
    }
   ],
   "source": [
    "transitions"
   ]
  },
  {
   "cell_type": "code",
   "execution_count": null,
   "id": "662ce197-e9d8-49c5-b59a-77d2023cb7f8",
   "metadata": {},
   "outputs": [],
   "source": []
  }
 ],
 "metadata": {
  "kernelspec": {
   "display_name": "Python 3 (ipykernel)",
   "language": "python",
   "name": "python3"
  },
  "language_info": {
   "codemirror_mode": {
    "name": "ipython",
    "version": 3
   },
   "file_extension": ".py",
   "mimetype": "text/x-python",
   "name": "python",
   "nbconvert_exporter": "python",
   "pygments_lexer": "ipython3",
   "version": "3.12.9"
  }
 },
 "nbformat": 4,
 "nbformat_minor": 5
}
